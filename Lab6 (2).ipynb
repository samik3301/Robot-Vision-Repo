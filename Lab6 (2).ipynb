{
 "cells": [
  {
   "cell_type": "markdown",
   "metadata": {},
   "source": [
    "Reading a normal color image and converting it into grayscale image"
   ]
  },
  {
   "cell_type": "code",
   "execution_count": null,
   "metadata": {},
   "outputs": [],
   "source": [
    "import numpy as np\n",
    "import cv2\n",
    "\n",
    "img = cv2.imread(\"\")\n",
    "cv2.imshow(\"Original Image\",img)\n",
    "cv2.waitKey(0)\n",
    "\n",
    "img_grayscaled = cv2.cvtColor(img,cv2.COLOR_BGR2GRAY)\n",
    "cv2.imshow(\"Grayscaled image\",img_grayscaled)\n",
    "cv2.waitKey(0)\n",
    "\n",
    "\n",
    "cv2.destroyAllWindows()\n",
    "\n"
   ]
  },
  {
   "cell_type": "markdown",
   "metadata": {},
   "source": [
    "Binary thresholding of grayscale image"
   ]
  },
  {
   "cell_type": "code",
   "execution_count": null,
   "metadata": {},
   "outputs": [],
   "source": [
    "import numpy as np\n",
    "import cv2\n",
    "\n",
    "img = cv2.imread(\"\")\n",
    "#cv2.imshow(\"Original Image\",img)\n",
    "#cv2.waitKey(0)\n",
    "\n",
    "img_grayscaled = cv2.cvtColor(img,cv2.COLOR_BGR2GRAY)\n",
    "cv2.imshow(\"Grayscaled image\",img_grayscaled)\n",
    "cv2.waitKey(0)\n",
    "thresh_binary = cv2.threshold(img, 120, 255, cv2.THRESH_BINARY)  #pixel values above 120 set to 255\n",
    "cv2.imshow('Binary Threshold', thresh_binary)\n",
    "cv2.imwrite(\"Binary_threshold_output.jgp\",thresh_binary)\n",
    "if cv2.waitKey(0) & 0xff == 27:\n",
    "    cv2.destroyAllWindows()\n",
    "\n",
    "\n",
    "\n"
   ]
  },
  {
   "cell_type": "markdown",
   "metadata": {},
   "source": [
    "Thresholding approach to segment it into 2,3,4, ... n clusters"
   ]
  },
  {
   "cell_type": "code",
   "execution_count": null,
   "metadata": {},
   "outputs": [],
   "source": [
    "import numpy as np\n",
    "import cv2\n",
    "\n",
    "img = cv2.imread(\"\")\n",
    "#cv2.imshow(\"Original Image\",img)\n",
    "#cv2.waitKey(0)\n",
    "\n",
    "img_grayscaled = cv2.cvtColor(img,cv2.COLOR_BGR2GRAY)\n",
    "cv2.imshow(\"Grayscaled image\",img_grayscaled)\n",
    "cv2.waitKey(0)\n",
    "\n",
    "pixel_vals = img.reshape((-1,1))   #grayscale only has 1 parameter\n",
    " \n",
    "# Convert to float type\n",
    "pixel_vals = np.float32(pixel_vals)\n",
    "#the below line of code defines the criteria for the algorithm to stop running,\n",
    "#which will happen is 100 iterations are run or the epsilon (which is the required accuracy)\n",
    "#becomes 85%\n",
    "criteria = (cv2.TERM_CRITERIA_EPS + cv2.TERM_CRITERIA_MAX_ITER, 100, 0.85)\n",
    " \n",
    "# then perform k-means clustering wit h number of clusters defined as 3\n",
    "#also random centres are initially choosed for k-means clustering\n",
    "k = int(input(\"Enter the value of k: \"))\n",
    "retval, labels, centers = cv2.kmeans(pixel_vals, k, None, criteria, 10, cv2.KMEANS_RANDOM_CENTERS)\n",
    " \n",
    "# convert data into 8-bit values\n",
    "centers = np.uint8(centers)\n",
    "segmented_data = centers[labels.flatten()]\n",
    " \n",
    "# reshape data into the original image dimensions\n",
    "segmented_image = segmented_data.reshape((img.shape))\n",
    "cv2.imshow(\"segmented image for k(input) cluster\",segmented_image)\n",
    "cv2.waitKey(0)\n",
    "\n",
    "cv2.destroyAllWindows()"
   ]
  },
  {
   "cell_type": "code",
   "execution_count": null,
   "metadata": {},
   "outputs": [],
   "source": []
  }
 ],
 "metadata": {
  "kernelspec": {
   "display_name": "Python 3.10.6 64-bit",
   "language": "python",
   "name": "python3"
  },
  "language_info": {
   "name": "python",
   "version": "3.10.6"
  },
  "orig_nbformat": 4,
  "vscode": {
   "interpreter": {
    "hash": "69963ce38df6fcf92bf4af08071b19a91e53213176803e31030a37c126f9cefb"
   }
  }
 },
 "nbformat": 4,
 "nbformat_minor": 2
}
