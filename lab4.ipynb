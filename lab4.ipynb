{
 "cells": [
  {
   "cell_type": "markdown",
   "metadata": {},
   "source": [
    "Mean of the grayscale image"
   ]
  },
  {
   "cell_type": "code",
   "execution_count": 14,
   "metadata": {},
   "outputs": [
    {
     "name": "stdout",
     "output_type": "stream",
     "text": [
      "The mean of the grayscale image is:  128.40383819889465\n"
     ]
    }
   ],
   "source": [
    "import numpy as np\n",
    "import cv2\n",
    "import matplotlib.pyplot as plt\n",
    "\n",
    "img = cv2.imread(\"E:\\\\VSC_workspace\\\\robot_vision_lab\\\\Lab4\\\\Screenshot_20220611-151240_Comic_Screen.jpg\")\n",
    "cv2.imshow(\"Color\", img)\n",
    "\n",
    "grey_img = cv2.cvtColor(img, cv2.COLOR_BGR2GRAY)\n",
    "cv2.imshow(\"Grayscale\", grey_img)\n",
    "mean_image = np.mean(grey_img)\n",
    "print(\"The mean of the grayscale image is: \",mean_image)\n",
    "cv2.waitKey(0)\n",
    "s = grey_img.shape\n",
    "k = grey_img.size\n",
    "#print(s)\n",
    "#print(k)\n",
    "cv2.destroyAllWindows()"
   ]
  },
  {
   "cell_type": "markdown",
   "metadata": {},
   "source": [
    "Zero padding and then the mean of the resultant image"
   ]
  },
  {
   "cell_type": "code",
   "execution_count": 15,
   "metadata": {},
   "outputs": [
    {
     "name": "stdout",
     "output_type": "stream",
     "text": [
      "The mean of the grayscale image is:  128.40383819889465\n",
      "The mean of the zero padded image: 126.9779038498937\n"
     ]
    }
   ],
   "source": [
    "import numpy as np\n",
    "import cv2\n",
    "import matplotlib.pyplot as plt\n",
    "\n",
    "img = cv2.imread(\"E:\\\\VSC_workspace\\\\robot_vision_lab\\\\Lab4\\\\Screenshot_20220611-151240_Comic_Screen.jpg\")\n",
    "#cv2.imshow(\"Color\", img)\n",
    "grey_img = cv2.cvtColor(img, cv2.COLOR_BGR2GRAY)\n",
    "mean_image = np.average(grey_img)\n",
    "print(\"The mean of the grayscale image is: \",mean_image)\n",
    "Kernel = np.array([(1,1,1),(1,1,1),(1,1,1)])*(1/9)\n",
    "#cv2.imshow(\"Grayscale\", grey_img)\n",
    "#mean_image = np.average(grey_img)\n",
    "#print(\"The mean of the grayscale image is: \",mean_image)\n",
    "#cv2.waitKey(0)\n",
    "s = grey_img.shape\n",
    "k = Kernel.shape\n",
    "#print(s)\n",
    "#print(k)\n",
    "r = s[0]+k[0]-1\n",
    "c = s[1]+k[1]-1\n",
    "Z = np.zeros((r,c))\n",
    "#print(Z.shape)\n",
    "\n",
    "for i in range(s[0]):\n",
    "    for j in range(s[1]):\n",
    "        Z[i+np.int64((k[0]-1)/2),j+np.int64((k[1]-1)/2)]= grey_img[i,j]\n",
    "    #print(Z)\n",
    "\n",
    "print(\"The mean of the zero padded image:\",np.mean(Z))\n",
    "cv2.destroyAllWindows()\n",
    "#C:\\Users\\Admin\\Documents\\OpenCV\\lab4.ipynb"
   ]
  },
  {
   "cell_type": "markdown",
   "metadata": {},
   "source": [
    "High padding of image and the mean of the resultant"
   ]
  },
  {
   "cell_type": "code",
   "execution_count": 16,
   "metadata": {},
   "outputs": [
    {
     "name": "stdout",
     "output_type": "stream",
     "text": [
      "The mean of the high padded resultant image is:  127.81564635430288\n"
     ]
    }
   ],
   "source": [
    "import cv2\n",
    "import numpy as np\n",
    "img = cv2.imread(\"E:\\\\VSC_workspace\\\\robot_vision_lab\\\\Lab4\\\\Screenshot_20220611-151240_Comic_Screen.jpg\")\n",
    "grey_img = cv2.cvtColor(img, cv2.COLOR_BGR2GRAY)\n",
    "cv2.imshow(\"Grayscale\", grey_img)\n",
    "grey_img = cv2.copyMakeBorder(img,1,1,1,1,cv2.BORDER_CONSTANT,None,255)\n",
    "cv2.imshow('High Padded image',grey_img)\n",
    "cv2.waitKey(0)\n",
    "print(\"The mean of the high padded resultant image is: \",np.mean(grey_img))\n",
    "cv2.destroyAllWindows()"
   ]
  },
  {
   "cell_type": "markdown",
   "metadata": {},
   "source": [
    "Mid padding of image and the mean of the resultant"
   ]
  },
  {
   "cell_type": "code",
   "execution_count": 17,
   "metadata": {},
   "outputs": [
    {
     "name": "stdout",
     "output_type": "stream",
     "text": [
      "The mean of the resultant mid padded image:  127.34553148114618\n"
     ]
    }
   ],
   "source": [
    "import cv2\n",
    "import numpy as np\n",
    "img = cv2.imread(\"E:\\\\VSC_workspace\\\\robot_vision_lab\\\\Lab4\\\\Screenshot_20220611-151240_Comic_Screen.jpg\")\n",
    "grey_img = cv2.cvtColor(img, cv2.COLOR_BGR2GRAY)\n",
    "cv2.imshow(\"Grayscale\", grey_img)\n",
    "grey_img = cv2.copyMakeBorder(img,1,1,1,1,cv2.BORDER_CONSTANT,None,128)\n",
    "cv2.imshow('Mid Padded image',grey_img)\n",
    "cv2.waitKey(0)\n",
    "print(\"The mean of the resultant mid padded image: \", np.mean(grey_img))\n",
    "cv2.destroyAllWindows()"
   ]
  },
  {
   "cell_type": "markdown",
   "metadata": {},
   "source": [
    "Gaussian Blur with 3x3 mask"
   ]
  },
  {
   "cell_type": "code",
   "execution_count": 5,
   "metadata": {},
   "outputs": [],
   "source": [
    "import cv2\n",
    "import numpy as np\n",
    "img = cv2.imread(\"E:\\\\VSC_workspace\\\\robot_vision_lab\\\\Lab4\\\\Screenshot_20220611-151240_Comic_Screen.jpg\")\n",
    "blurred_img = cv2.GaussianBlur(img,(3,3),0)\n",
    "cv2.imshow('Normal Image',img)\n",
    "cv2.imshow('Gaussian Blurred 3x3',blurred_img)\n",
    "cv2.waitKey(0)\n",
    "cv2.destroyAllWindows()"
   ]
  },
  {
   "cell_type": "markdown",
   "metadata": {},
   "source": [
    "Gaussian Blur with 5x5 mask"
   ]
  },
  {
   "cell_type": "code",
   "execution_count": 13,
   "metadata": {},
   "outputs": [],
   "source": [
    "import cv2\n",
    "import numpy as np\n",
    "img = cv2.imread(\"E:\\\\VSC_workspace\\\\robot_vision_lab\\\\Lab4\\\\Screenshot_20220611-151240_Comic_Screen.jpg\")\n",
    "blurred_img = cv2.GaussianBlur(img,(5,5),0)\n",
    "cv2.imshow('Normal Image',img)\n",
    "cv2.imshow('Gaussian Blurred 5x5',blurred_img)\n",
    "cv2.waitKey(0)\n",
    "cv2.destroyAllWindows()"
   ]
  }
 ],
 "metadata": {
  "kernelspec": {
   "display_name": "Python 3.10.6 64-bit",
   "language": "python",
   "name": "python3"
  },
  "language_info": {
   "codemirror_mode": {
    "name": "ipython",
    "version": 3
   },
   "file_extension": ".py",
   "mimetype": "text/x-python",
   "name": "python",
   "nbconvert_exporter": "python",
   "pygments_lexer": "ipython3",
   "version": "3.10.6"
  },
  "orig_nbformat": 4,
  "vscode": {
   "interpreter": {
    "hash": "69963ce38df6fcf92bf4af08071b19a91e53213176803e31030a37c126f9cefb"
   }
  }
 },
 "nbformat": 4,
 "nbformat_minor": 2
}
